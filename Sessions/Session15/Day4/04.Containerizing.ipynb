{
 "cells": [
  {
   "cell_type": "markdown",
   "id": "a497755f-141c-416a-a439-680dda3b3f2c",
   "metadata": {},
   "source": [
    "# Reproducible Science with Docker\n",
    "\n",
    "## What is Docker and why it's relevant for reproducible science\n",
    "\n",
    "Wouldn't it be great to be able to send a collaborator a complete environment with everything set up already for them? Or yourself in the future?\n",
    "\n",
    "You'll always have a working version of your research frozen in time.\n",
    "\n",
    "Also, no subtle bugs from differences in operating systems or software versions.\n",
    "\n",
    "Docker streamlines the development lifecycle by allowing developers to work in standardized environments."
   ]
  },
  {
   "cell_type": "markdown",
   "id": "2f83ec4a-9cdd-4573-9632-62593600e1f9",
   "metadata": {
    "tags": []
   },
   "source": [
    "### Dockerfiles basic commands\n",
    "\n",
    "The following example contains a few simple Docker command that are very commonly used:\n",
    "\n",
    "```Dockerfile\n",
    "\n",
    "# Start from base image, comes with some dependencies pre-installed\n",
    "# You can find more base images at dockerhub \n",
    "FROM python:3.11.0b4-slim-buster\n",
    "\n",
    "# The WORKDIR instruction sets the working directory for any RUN, CMD, ENTRYPOINT, COPY and ADD instructions that follow it in the Dockerfile. If the WORKDIR doesn’t exist, it will be created even if it’s not used in any subsequent Dockerfile instruction.\n",
    "WORKDIR /app\n",
    "\n",
    "# Copy the local directory contents into the container at /app\n",
    "COPY . /app\n",
    "\n",
    "# Run command line commands, for example if there was a requirements.txt file in your app dir. then this is one way of running it just as if you were in your local CLI\n",
    "RUN pip install -r requirements.txt\n",
    "\n",
    "# Define an environment variable\n",
    "ENV CONDA_PREFIX=Users/username/envs\n",
    "\n",
    "# To use an environment variable you have to add a $ to it\n",
    "RUN echo $CONDA_PREFIX\n",
    "\n",
    "# Run app.py when the container launches\n",
    "# There can only be one CMD instruction in a Dockerfile\n",
    "# CMD [\"executable\",\"param1\",\"param2\"] is the preferred way to use the CMD command\n",
    "CMD [\"python\", \"app.py\"]\n",
    "```"
   ]
  },
  {
   "cell_type": "markdown",
   "id": "f2763f82-cf42-4aa7-b7f1-da2d5ba28ee7",
   "metadata": {},
   "source": [
    "### Dockerfiles interactive commands\n",
    "\n",
    "This example shows how you can create scripts that will interact with your docker container later. It also shows you a little bit how to navigate into the Linux ecosystem:\n",
    "\n",
    "```Dockerfile\n",
    "# COPY moves a file from your local directory to the Docker image\n",
    "COPY requirements.txt requirements.txt\n",
    "RUN pip install -r requirements.txt\n",
    "\n",
    "# Download superduper image converter\n",
    "RUN wget https://downloads.apache.org/pdfbox/2.0.19/pdfbox-app-2.0.19.jar\n",
    "\n",
    "WORKDIR /work\n",
    "COPY myscript.sh myscript.sh\n",
    "COPY analysis.py analysis.py\n",
    "\n",
    "WORKDIR /work\n",
    "RUN python analysis.py\n",
    "```"
   ]
  },
  {
   "cell_type": "markdown",
   "id": "a9ab3ba4-8e17-4d1e-9b6d-6b656396ea8a",
   "metadata": {},
   "source": [
    "### Using the `Dockerfile`\n",
    "\n",
    "Finally, this is the last step. After you have your Dockerfile image, these are some example commands of how you might want to interact with your Docker file.\n",
    "\n",
    "```shell\n",
    "# Build\n",
    "docker build --tag datascidockerfiles:1.0.0.\n",
    "\n",
    "# Run the image interactively with RStudio, open it on http://localhost/\n",
    "docker run -it -p 80:8787 -e PASSWORD = ten --volume $(pwd)/input:/input datascidockerfiles:1.0.0\n",
    "\n",
    "# Run the workflow:\n",
    "docker run -it --name my_container_nickname datascidockerfiles:1.0.0 /work/myscript.sh\n",
    "\n",
    "# Extract the data:\n",
    "docker cp my_container_nickname:/output/ ./outputData\n",
    "```"
   ]
  },
  {
   "cell_type": "markdown",
   "id": "00bada60-48b7-44ff-a7fa-275286a92e7c",
   "metadata": {},
   "source": [
    "### Mount datasets at runtime\n",
    "\n",
    "According to Nüst et al. (2020), best practice is leave (especially large) datasets outside of your container. This makes the datasets more accessible to outside analysis and if the datasets are large, it makes the containers easier to transport and upload.\n",
    "Instead of including the dataset in the container build, mount them at runtime\n",
    "\n",
    "```shell\n",
    "# source is where the files are coming from in your local environment\n",
    "# targe is where the files are going inside the docker container\n",
    "# Bind mounts will mount a file or directory on to your container from your host machine, which you can then reference via its absolute path\n",
    "docker run --mount type = bind, source = $HOME/project, target = /project mycontainer\n",
    "\n",
    "# mount directory as read-only\n",
    "docker run --mount type = bind , source = $HOME/project, target = /workspace, readonly mycontainer\n",
    "```"
   ]
  },
  {
   "cell_type": "markdown",
   "id": "6b3f093a-1448-416b-88c6-a7d77d559d4b",
   "metadata": {},
   "source": [
    "### Jupyter integration\n",
    "\n",
    "You can choose from several pre-built Jupyter images from [here](https://github.com/jupyter/docker-stacks).\n",
    "\n",
    "Useful [documentation](https://jupyter-docker-stacks.readthedocs.io/en/latest/index.html) for Jupyter Docker."
   ]
  },
  {
   "cell_type": "markdown",
   "id": "8af9c324-77d4-4a1c-8bcc-3a54d9e74517",
   "metadata": {},
   "source": [
    "## Recommendations for open science\n",
    "\n",
    "**Recommendation 1: Use available tools**\n",
    "\n",
    "Consider using [repo2docker](https://github.com/jupyterhub/repo2docker) to generate a dockerfile from your existing repo.\n",
    "\n",
    "**Recommendation 2: Build upon existing images**\n",
    "\n",
    "Use existing, well maintained (official) images as your starting point.\n",
    "\n",
    "**Recommendation 3: Document within the Dockerfile**\n",
    "\n",
    "Add comments explaining each step!\n",
    "\n",
    "**Recommendation 4: Format for clarity**\n",
    "\n",
    "When connecting multiple commands in a RUN instruction with &&, use \\ at the end of a line to break a single command into multiple lines. This will ensure that no single line gets too long to comfortably read\n",
    "\n",
    "Design the RUN instructions so that each performs one scoped action, e.g. download, compile, and install one tool\n",
    "\n",
    "**Recommendation 5: Specify Software versions**\n",
    "\n",
    "Specify the precise version of the software dependencies you use so that your Docker image builds will be reproducible. (E.g. Don't use \"latest\" tag, instead specify \"3.2.1\")\n",
    "\n",
    "**Recommendation 6: Use Version control**\n",
    "\n",
    "Check your Dockerfile into version control!\n",
    "Publish all files COPYied into the image.\n",
    "\n",
    "**Recommendation 7: Make the image one-click runnable**\n",
    "\n",
    "You can interactively develop inside the container, but when you are done, publish a version that is an execution of a full workflow."
   ]
  }
 ],
 "metadata": {
  "kernelspec": {
   "display_name": "Python 3 (ipykernel)",
   "language": "python",
   "name": "python3"
  },
  "language_info": {
   "codemirror_mode": {
    "name": "ipython",
    "version": 3
   },
   "file_extension": ".py",
   "mimetype": "text/x-python",
   "name": "python",
   "nbconvert_exporter": "python",
   "pygments_lexer": "ipython3",
   "version": "3.9.11"
  }
 },
 "nbformat": 4,
 "nbformat_minor": 5
}
