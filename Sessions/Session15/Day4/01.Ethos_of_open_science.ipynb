{
 "cells": [
  {
   "cell_type": "markdown",
   "id": "55dbbde2-c1c6-4ea4-97e7-a498c4f33dc8",
   "metadata": {},
   "source": [
    "👥 What do you think are some relevant practices to Open Science? What are some benefits? What are some disadvantages?"
   ]
  },
  {
   "cell_type": "markdown",
   "id": "b63fe299-6c53-4ae6-973b-359f051816c4",
   "metadata": {},
   "source": [
    "# Ethos of open science\n",
    "\n",
    "### What is open science\n",
    "\n",
    "Means to make science accessible to all. It's a theme that encompasses many different areas and in this session we'll both look at the community and the technical aspects of it."
   ]
  },
  {
   "cell_type": "markdown",
   "id": "13c108bc-690b-4566-8865-9339fa35d985",
   "metadata": {},
   "source": [
    "**Open access**\n",
    "\n",
    "- Open access papers\n",
    "- Availability of code\n",
    "\n",
    "**Open data**\n",
    "\n",
    "- Public data repositories\n",
    "- Data formatting standardizing\n",
    "\n",
    "**Open software**\n",
    "\n",
    "- Open science software ecossystem (NumFOCUS tools, etc.)\n",
    "- Open source software ecossystem that supports the scientific ecossystem (\n",
    "\n",
    "**Open community practices**\n",
    "\n",
    "- Community oriented resources\n",
    "    - Documentation, tutorial, code of conduct, chat rooms, forums, meetups"
   ]
  },
  {
   "cell_type": "markdown",
   "id": "f8164f6b-f531-446d-a686-69da71b48fa0",
   "metadata": {},
   "source": [
    "<center><img src=\"img/open.png\" width=\"600\"/></center>"
   ]
  },
  {
   "cell_type": "markdown",
   "id": "1b75b7ef-e4a3-4d4a-84ce-e3f9deca7fcc",
   "metadata": {},
   "source": [
    "## Benefits and challanges of responsible open science\n",
    "\n",
    "It's important to identify your stakeholders and understand a few steps of the process of making your research public. \n",
    "\n",
    "Learning about your public and contributors will help you write directed, effective content. Understanding about the ecossystem in which your research is immersed will help you be prepared for dealing with the eventual problems you might face.\n",
    "\n",
    "\n",
    "**Stakeholders**\n",
    "\n",
    "- Researchers\n",
    "- Consumers (e.g industry, general public, etc.)\n",
    "- Scientific journals\n",
    "\n",
    "**Benefits of open science**\n",
    "\n",
    "- Improves verifiability [[1]](https://szociologia.tk.hu/uploads/files/archive/john_et_al_2012.pdf) (e.g Volkswagen)\n",
    "- Valuable for the public sector (e.g Polis in Taiwan, Public money public code)\n",
    "- Response to societal prolems (e.g Covid, climate change)\n",
    "- Less repetition\n",
    "- Career benefits\n",
    "- Cheaper (e.g Common Voice)\n",
    "\n",
    "<center><img src=\"img/benefits-of-oa-new.jpg\" width=\"800\"/></center>\n",
    "\n",
    "**Challanges**\n",
    "\n",
    "- Data consent (e.g Cambridge analytica)\n",
    "- Documentation, using standards (e.g licenses, CoC)\n",
    "- Imoral open source use (e.g ICE, millitary)\n",
    "    - [Ethical Source](http://ethicalsource.dev/), [First do no harm](https://firstdonoharm.dev/)"
   ]
  },
  {
   "cell_type": "markdown",
   "id": "328dcf49-e62d-40e7-a0d8-4ca499c7095f",
   "metadata": {},
   "source": [
    "## The FAIR principles\n",
    "\n",
    "In 2014, a core set of principles were drafted in order to optimise the reusability of research data, named the FAIR Data Principles. They represent a community-developed set of guidelines and best practices to ensure that data or any digital object are Findable, Accessible, Interoperable and Re-usable:\n",
    "\n",
    "**Findable**: The first thing to be in place to make data reusable is the possibility to find them. It should be easy to find the data and the metadata for both humans and computers. Automatic and reliable discovery of datasets and services depends on machine-readable persistent identifiers (PIDs) and metadata.\n",
    "\n",
    "**Accessible**: The (meta)data should be retrievable by their identifier using a standardised and open communications protocol, possibly including authentication and authorisation. Also, metadata should be available even when the data are no longer available.\n",
    "\n",
    "**Interoperable**: The data should be able to be combined with and used with other data or tools. The format of the data should therefore be open and interpretable for various tools, including other data records. The concept of interoperability applies both at the data and metadata level. For instance, the (meta)data should use vocabularies that follow FAIR principles.\n",
    "\n",
    "**Re-usable**: Ultimately, FAIR aims at optimising the reuse of data. To achieve this, metadata and data should be well-described so that they can be replicated and/or combined in different settings. Also, the reuse of the (meta)data should be stated with (a) clear and accessible license(s)."
   ]
  }
 ],
 "metadata": {
  "kernelspec": {
   "display_name": "Python 3 (ipykernel)",
   "language": "python",
   "name": "python3"
  },
  "language_info": {
   "codemirror_mode": {
    "name": "ipython",
    "version": 3
   },
   "file_extension": ".py",
   "mimetype": "text/x-python",
   "name": "python",
   "nbconvert_exporter": "python",
   "pygments_lexer": "ipython3",
   "version": "3.9.11"
  }
 },
 "nbformat": 4,
 "nbformat_minor": 5
}
