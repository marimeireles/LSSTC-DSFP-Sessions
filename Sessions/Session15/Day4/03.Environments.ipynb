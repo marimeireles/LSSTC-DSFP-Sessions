{
 "cells": [
  {
   "cell_type": "markdown",
   "id": "3d26811d-811f-411c-b2f7-80a3daece26c",
   "metadata": {},
   "source": [
    "# Python Environments\n",
    "\n",
    "Python environments are known to be complicated to deal with but they're a very important piece of reproducible science. To have containerized environments means your code will run the same on everyone's computer that respect the versioning restrains you set for your project.\n",
    "\n",
    "In this notebook we're going to talk a little bit about the softwares that are out there and take a closer look into conda related technologies."
   ]
  },
  {
   "cell_type": "markdown",
   "id": "8615027a-dbd8-42d4-b488-fc9c751c678d",
   "metadata": {},
   "source": [
    "<img src=\"img/env.png\" width=\"700\"/>"
   ]
  },
  {
   "cell_type": "markdown",
   "id": "13a9a218-395a-4f7b-ad2e-a4214366f530",
   "metadata": {},
   "source": [
    "## The ecosystem\n",
    "\n",
    "For us, Python developers, usually only two kinds of environments are relevant: Python envs and OS envs.\n",
    "\n",
    "### Python\n",
    "\n",
    "These don't mix well. If you're using `pip` for example, then stick with it, try not to mix it with `conda`-like environments.\n",
    "\n",
    "- `pyenv`\n",
    "- `pip`\n",
    "- `conda` and `mamba`\n",
    "    - `conda-forge`\n",
    "    - `defaults`\n",
    "\n",
    "### OS package managing system\n",
    "\n",
    "- `brew`\n",
    "- `apt`, `aur`, `pacman`\n",
    "- `chocolate`"
   ]
  },
  {
   "cell_type": "markdown",
   "id": "e97719f8-4d0f-471f-bd67-eb1055ff7131",
   "metadata": {},
   "source": [
    "### Conda recommendations\n",
    "\n",
    "Install `conda` from Anaconda's website and choose the `miniconda` version that's compatible with your OS.\n",
    "\n",
    "Follow the instruction steps.\n",
    "\n",
    "Add the `conda-forge` channel on your configuration:\n",
    "\n",
    "```bash\n",
    "$ conda config --add channels conda-forge\n",
    "```\n",
    "\n",
    "Install `mamba` in your base environment. Mamba leverages conda, the basics of what you need to know is, `mamba` is very fast so you want to use it to manage your packages, install them or delete them for example, and we're going to use `conda` to manage our environments, create, delete and modify them. A workflow to start a new conda environment might look like the following:\n",
    "\n",
    "```bash\n",
    "conda create -n new_env\n",
    "conda activate new_env\n",
    "mamba install package1 package2\n",
    "mamba remove package1\n",
    "conda deactivate\n",
    "```\n",
    "\n",
    "You don't have to deactive an environment every time you're not using it, but you should `deactivate` every time you'd like to work on a different environment.\n",
    "\n",
    "Conda uses a `yaml` file to create default configurations to a project. Here's an example of a `yaml` file:\n",
    "\n",
    "```bash\n",
    "name: tutorial\n",
    "channels:\n",
    "  - conda-forge\n",
    "dependencies:\n",
    "  - bqplot=0.12.33\n",
    "  - branca=0.5.0\n",
    "  - ipycanvas=0.12.0\n",
    "  - ipycytoscape=1.3.3\n",
    "```\n",
    "\n",
    "To create a `conda` environment out of a `yaml` file use the following in your command line interface:\n",
    "\n",
    "```bash\n",
    "conda env create -f environment_file.yml\n",
    "```\n",
    "\n",
    "If you want to learn more about how to write your own, head over the [documentation]()."
   ]
  },
  {
   "cell_type": "markdown",
   "id": "da9630cd-60ef-411b-bccd-8b329413491a",
   "metadata": {},
   "source": [
    "## CI/CD\n",
    "\n",
    "Environments are a fragily thing. If you're using OSX, for example, and want your software to run on a Windows computer the only way of being sure your software will work is by running several tests in a recreated environment that emulates the exact scenario you're aiming for.\n",
    "\n",
    "Fortunately tools like Docker and CI/CDs are here to assist us.\n",
    "\n",
    "There are several CI/CD tools:\n",
    "\n",
    "- [Travis](https://www.travis-ci.com/)\n",
    "- [Jenkins](https://www.jenkins.io/)\n",
    "- [Github Workflows](https://docs.github.com/en/actions/using-workflows)\n",
    "- [Azure Workflows](https://docs.microsoft.com/en-us/azure/logic-apps/quickstart-create-first-logic-app-workflow)\n",
    "- [Gitlab CI/CD](https://docs.gitlab.com/ee/ci/)\n",
    "\n",
    "We're going to take a quick look into Github Workflows because a) they're easy to integrate with Github's website which is the biggest website for open source and code sharing and b) has Microsoft support which means it's a technology that will probably last for a while.\n",
    "\n",
    "It seems like a lot of different technologies to learn and to choose from but thankfully all of these technologies share concepts, so once you learn one of these it's easy to pick the other one up!"
   ]
  },
  {
   "cell_type": "markdown",
   "id": "43b4ebef-0104-4cce-90a0-0963326e38a5",
   "metadata": {},
   "source": [
    "```yaml\n",
    "name: Python package\n",
    "\n",
    "on: [push]\n",
    "\n",
    "jobs:\n",
    "  build:\n",
    "\n",
    "    runs-on: ubuntu-latest\n",
    "    strategy:\n",
    "      matrix:\n",
    "        python-version: [\"3.7\", \"3.8\", \"3.9\", \"3.10\"]\n",
    "\n",
    "    steps:\n",
    "      - uses: actions/checkout@v3\n",
    "      - name: Set up Python ${{ matrix.python-version }}\n",
    "        uses: actions/setup-python@v4\n",
    "        with:\n",
    "          python-version: ${{ matrix.python-version }}\n",
    "      - name: Install dependencies\n",
    "        run: |\n",
    "          python -m pip install --upgrade pip\n",
    "          pip install flake8 pytest\n",
    "          if [ -f requirements.txt ]; then pip install -r requirements.txt; fi\n",
    "      - name: Lint with flake8\n",
    "        run: |\n",
    "          # stop the build if there are Python syntax errors or undefined names\n",
    "          flake8 . --count --select=E9,F63,F7,F82 --show-source --statistics\n",
    "          # exit-zero treats all errors as warnings. The GitHub editor is 127 chars wide\n",
    "          flake8 . --count --exit-zero --max-complexity=10 --max-line-length=127 --statistics\n",
    "      - name: Test with pytest\n",
    "        run: |\n",
    "          pytest\n",
    "```"
   ]
  },
  {
   "cell_type": "markdown",
   "id": "b3d7877c-2713-4193-ab5d-1a7cb9fb3e7e",
   "metadata": {},
   "source": [
    "Github workflows also offers you a way of adding templates for your issues and automating a few other boring tasks like closing issues that are related to a certain kind of feature, creating automatic test workflows and documentation releases. There's a lot to explore, thankfully odds are someone already created what you need or something close to what you need and they made it freely available on Github action's marketplace, if you have an idea for a workflow you'd like to automate I'd highly recommended having a look on [what's around](https://github.com/marketplace) before tackling the issue."
   ]
  }
 ],
 "metadata": {
  "kernelspec": {
   "display_name": "Python 3 (ipykernel)",
   "language": "python",
   "name": "python3"
  },
  "language_info": {
   "codemirror_mode": {
    "name": "ipython",
    "version": 3
   },
   "file_extension": ".py",
   "mimetype": "text/x-python",
   "name": "python",
   "nbconvert_exporter": "python",
   "pygments_lexer": "ipython3",
   "version": "3.9.11"
  }
 },
 "nbformat": 4,
 "nbformat_minor": 5
}
