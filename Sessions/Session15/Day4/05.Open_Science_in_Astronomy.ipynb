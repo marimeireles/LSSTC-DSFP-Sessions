{
 "cells": [
  {
   "cell_type": "markdown",
   "id": "d4dacb87-1493-4a9b-bcd9-22bf3e5e972b",
   "metadata": {},
   "source": [
    "# Astronomy's open science efforts"
   ]
  },
  {
   "cell_type": "markdown",
   "id": "c22b0b0c-abd6-4e96-a5e9-29dc0485d02d",
   "metadata": {},
   "source": [
    "<center><img src=\"img/shoot_for_the_moon.png\" width=\"600\"/></center>\n",
    "\n",
    "## How to create a reproducible package\n",
    "\n",
    "> What would a student need to reproduce my result?\n",
    "\n",
    "- Links to the raw data (ESA/NASA, etc)\n",
    "- Scripts that derive products from raw data\n",
    "- The derived products (images, spectra, etc.)\n",
    "- Analysis/optimization scripts that derive results\n",
    "- Result tables\n",
    "- Scripts to re-create the figures\n",
    "- For each of the above a README file explaining how to use it.\n",
    "\n",
    "More in-depth explanation in the following [repo](https://github.com/jdeplaa/open-data-template).\n",
    "\n",
    "**Might be a good idea to use a [cookiecutter](https://drivendata.github.io/cookiecutter-data-science/)!**"
   ]
  },
  {
   "cell_type": "markdown",
   "id": "2921007c-367a-4d80-8207-a04f7d3f5d32",
   "metadata": {},
   "source": [
    "## Data\n",
    "\n",
    "### Ampel project\n",
    "\n",
    "AMPEL is a modular and scalable platform with explicit provenance tracking, suited for systematically processing large — possibly complex and heterogeneous — datasets either in real time or offline. This includes selecting, analyzing, updating, combining, enriching and reacting to data.\n",
    "\n",
    "The framework requires analysis and reaction logic to be broken down into adequate independent units. AMPEL was originally developed to solve challenges in the context of experimental astrophysics, but is general enough to be applicable in various fields.\n",
    "\n",
    "Learn more about it [here](https://ampelproject.github.io/).\n",
    "\n",
    "### Maneage\n",
    "\n",
    "Maneage is a framework for having full control over a project's data lineage (thus producing a reproducible result).\n",
    "\n",
    "Learn more about it [here](https://maneage.org/).\n",
    "\n",
    "### So many open data intiatives!\n",
    "\n",
    "- [Odysseus](https://zenodo.org/communities/odysseus/?page=1&size=20)\n",
    "- [Ullyses](https://ullyses.stsci.edu/index.html)\n",
    "- [ESO](http://archive.eso.org/eso/eso_archive_main.html)"
   ]
  },
  {
   "cell_type": "markdown",
   "id": "de4c5f6a-85f1-422c-bf9d-763748750a3b",
   "metadata": {},
   "source": [
    "## Journals or aggregators for open science papers\n",
    "\n",
    "- [Imperial College London Research Software Directory (Beta)](https://imperialcollegelondon.github.io/research-software-directory/)\n",
    "- [The Journal of Open Source Software](https://joss.theoj.org/) is a developer friendly, open access journal for research software packages.\n",
    "- The Astrophysics Source Code Library [ASCL](http://www.ascl.net/) is a free online registry for source codes of interest to astronomers and astrophysicist\n",
    "- The [ADS](https://ui.adsabs.harvard.edu/about/) maintains three bibliographic collections containing more than 15 million records covering publications in astronomy and astrophysics, physics, and general science, including all arXiv e-prints. Abstracts and full-text of major astronomy and physics publications are indexed and searchable through ADS search tooling."
   ]
  }
 ],
 "metadata": {
  "kernelspec": {
   "display_name": "Python 3 (ipykernel)",
   "language": "python",
   "name": "python3"
  },
  "language_info": {
   "codemirror_mode": {
    "name": "ipython",
    "version": 3
   },
   "file_extension": ".py",
   "mimetype": "text/x-python",
   "name": "python",
   "nbconvert_exporter": "python",
   "pygments_lexer": "ipython3",
   "version": "3.9.11"
  }
 },
 "nbformat": 4,
 "nbformat_minor": 5
}
